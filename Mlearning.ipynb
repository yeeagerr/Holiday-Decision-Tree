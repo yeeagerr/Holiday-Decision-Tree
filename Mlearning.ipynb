{
 "cells": [
  {
   "cell_type": "code",
   "execution_count": 43,
   "id": "e805c67e-7cd1-4db9-99a2-25f8c5022b25",
   "metadata": {
    "scrolled": true
   },
   "outputs": [
    {
     "name": "stdout",
     "output_type": "stream",
     "text": [
      "Predicted Holiday Place: Rügen Island\n",
      "Description Place: Rügen is an island just off the Pomeranian coast of the Baltic Sea, and is the largest island in Germany covering over 900 square km. Lying in the state of Mecklenburg-Western Pomerania, it contains the towns Bergen, Sassnitz, Putbus and Garz, alongside the seaside resorts of Binz, Baabe, Göhren, Selling and Thiessow. This variety of destinations within one locality makes Rügen an ideal tourism and vacation centre, offering everything a visitor could look for, from more than 60km of unspoiled fine, sandy beaches, to the Jasmund National Park with its heritage forests and sheer white cliffs.\n",
      "Picture Of The Place: https://img.fotocommunity.com/verwehte-strandkoerbe-auf-sylt-820991da-d8d1-4328-8010-12287f90d677.jpg?height=400\n"
     ]
    }
   ],
   "source": [
    "import pandas as pd\n",
    "# export_text untuk nampilin rules decision tree, ada di bawah dengan nama variabel tree_rules, untuk itu dia\n",
    "from sklearn.tree import DecisionTreeClassifier, export_text\n",
    "\n",
    "# dua ini buat train ai nya tapi gw selalu dapat score 0.0 :( , gatau kyk mana lagi\n",
    "from sklearn.model_selection import train_test_split\n",
    "from sklearn.metrics import accuracy_score\n",
    "from sklearn import tree\n",
    "\n",
    "data = pd.read_csv('Database Holiday Mate.csv')\n",
    "\n",
    "# dipake / ga di pake sama aja cuk\n",
    "# df = pd.DataFrame(data)\n",
    "\n",
    "# target di csv yang di ammbil\n",
    "X = data[['City'\t,'Countryside'\t,'Seaside'\t,'Riverside'\t\n",
    "        ,'Mountains'\t,'Hotel',\t'Hostel'\t,'Camping'\t,'Train'\t,'Train + Bike'\n",
    "        ,'Bus'\t, 'Explore Nature'\t, 'Food'\t,'Culture'\t,'Party'\t,'Relaxing',\t'Active Holiday']]\n",
    "\n",
    "y = data[['HolidayPlace', 'Description', 'Picture']]\n",
    "\n",
    "# Buat classifier decision tree nya, (ini Decision Tree Model)\n",
    "model = DecisionTreeClassifier()\n",
    "model.fit(X, y)\n",
    "\n",
    "# tampilin decision tree rules gatau apa ini wkwk, tapi ini kayak aturan aturan nya dalam bentuk pohon\n",
    "# tree_rules = export_text(model, feature_names=selected_features)\n",
    "\n",
    "new_data = {\n",
    "    'City' : [0]\t,\n",
    "    'Countryside' : [1]\t,\n",
    "    'Seaside' : [1]\t,\n",
    "    'Riverside' : [0]\t,\n",
    "    'Mountains' : [0]\t,\n",
    "    'Hotel': [1],\t\n",
    "    'Hostel' : [1]\t,\n",
    "    'Camping' : [0]\t,\n",
    "    'Train' : [1]\t,\n",
    "    'Train + Bike' : [0],\n",
    "    'Bus' : [1]\t, \n",
    "    'Explore Nature' : [1]\t, \n",
    "    'Food' : [0]\t,\n",
    "    'Culture' : [0]\t,\n",
    "    'Party' : [0]\t,\n",
    "    'Relaxing' : [1],\t\n",
    "    'Active Holiday' : [1],\n",
    "}\n",
    "\n",
    "# # Convert variable new_Data jadi DataFrame\n",
    "new_df = pd.DataFrame(new_data)\n",
    "\n",
    "predictions = model.predict(new_df)\n",
    "\n",
    "# bisa pake variabel yang seperti new_data di atas bisa manual kayak gini\n",
    "# predictions = model.predict([[1, 0 , 1, 1, 1, 0 ,0 ,0 ,0 ,0 ,0 ,0, 1, 0 ,1 ,0, 1]])\n",
    "\n",
    "\n",
    "# loop kesetiap array dan ambil data nya\n",
    "for i in predictions:\n",
    "    print(\"Predicted Holiday Place:\", i[0])\n",
    "    print(\"Description Place:\", i[1])\n",
    "    print(\"Picture Of The Place:\", i[2])\n"
   ]
  },
  {
   "cell_type": "code",
   "execution_count": 49,
   "id": "d31a6c52-680d-449a-b667-383002238750",
   "metadata": {},
   "outputs": [],
   "source": [
    "tree.export_graphviz(model, out_file='holidayTree.dot', feature_names=[\"City\",\"Countryside\", \"Seaside\", \"Riverside\", \"Mountains\", \"Hotel\", \"Hostel\", \"Camping\", \"Train\",\n",
    "        \"Train + Bike\",\n",
    "        \"Bus\",\n",
    "        \"Explore Nature\",\n",
    "        \"Food\",\n",
    "        \"Culture\",\n",
    "        \"Party\",\n",
    "        \"Relaxing\",\n",
    "        \"Active Holiday\"], class_names=sorted(y),\n",
    "                    label='all', rounded=True, filled=True)"
   ]
  }
 ],
 "metadata": {
  "kernelspec": {
   "display_name": "Python 3 (ipykernel)",
   "language": "python",
   "name": "python3"
  },
  "language_info": {
   "codemirror_mode": {
    "name": "ipython",
    "version": 3
   },
   "file_extension": ".py",
   "mimetype": "text/x-python",
   "name": "python",
   "nbconvert_exporter": "python",
   "pygments_lexer": "ipython3",
   "version": "3.11.7"
  }
 },
 "nbformat": 4,
 "nbformat_minor": 5
}
